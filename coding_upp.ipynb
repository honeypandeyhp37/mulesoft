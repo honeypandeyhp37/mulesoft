{
 "cells": [
  {
   "cell_type": "code",
   "execution_count": 31,
   "metadata": {},
   "outputs": [],
   "source": [
    "import mysql.connector"
   ]
  },
  {
   "cell_type": "code",
   "execution_count": 32,
   "metadata": {},
   "outputs": [],
   "source": [
    "mydb = mysql.connector.connect(host=\"localhost\", \n",
    "                               user=\"root\",\n",
    "                               passwd=\"abhihoney221312@\",\n",
    "                               database=\"movies_favo\"\n",
    "                              )"
   ]
  },
  {
   "cell_type": "code",
   "execution_count": 35,
   "metadata": {},
   "outputs": [],
   "source": [
    "mycursor=mydb.cursor()"
   ]
  },
  {
   "cell_type": "code",
   "execution_count": 36,
   "metadata": {},
   "outputs": [],
   "source": [
    "mycursor.execute(\"select * from movies_favo\")"
   ]
  },
  {
   "cell_type": "code",
   "execution_count": 37,
   "metadata": {},
   "outputs": [
    {
     "name": "stdout",
     "output_type": "stream",
     "text": [
      "('bhuj', 'ajay devgan', 'sonakshisingha', '15/08/2021', 'abhishek dudhaiya')\n",
      "('border', 'sunny deol', 'tabu', '1997', 'j p datta')\n",
      "('ddlj', 'shah rukh khan', 'kajol', '20/10/1995', 'aditya chopra')\n",
      "('shershaah', 'siddharth malhotra', 'kiara advani', '12/08/2021', 'vishnuvardhan')\n",
      "('tanhaji', 'ajay devgan', 'kajol', '2019', 'ajay devgna')\n",
      "('udaan', 'surya', 'aparna', '2020', 'sudha kongara prasad')\n",
      "('yjhd', 'ranbir kapoor', 'deepika padukone', '2013', 'ayan mukherjee')\n"
     ]
    }
   ],
   "source": [
    "for i in mycursor:\n",
    "    print(i)"
   ]
  },
  {
   "cell_type": "code",
   "execution_count": null,
   "metadata": {},
   "outputs": [],
   "source": []
  }
 ],
 "metadata": {
  "kernelspec": {
   "display_name": "Python 3",
   "language": "python",
   "name": "python3"
  },
  "language_info": {
   "codemirror_mode": {
    "name": "ipython",
    "version": 3
   },
   "file_extension": ".py",
   "mimetype": "text/x-python",
   "name": "python",
   "nbconvert_exporter": "python",
   "pygments_lexer": "ipython3",
   "version": "3.7.6"
  }
 },
 "nbformat": 4,
 "nbformat_minor": 4
}
